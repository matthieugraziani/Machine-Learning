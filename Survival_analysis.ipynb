{
  "cells": [
    {
      "cell_type": "markdown",
      "id": "ba6e5291",
      "metadata": {
        "id": "ba6e5291"
      },
      "source": [
        "# 1-Librairies"
      ]
    },
    {
      "cell_type": "code",
      "execution_count": 1,
      "id": "eaac408f",
      "metadata": {
        "id": "eaac408f"
      },
      "outputs": [
        {
          "name": "stderr",
          "output_type": "stream",
          "text": [
            "c:\\Users\\mgraz\\Documents\\.vscode\\Alyra\\Projet Alyra\\Block 3 - Machine Learning\\.venv\\Lib\\site-packages\\tqdm\\auto.py:21: TqdmWarning: IProgress not found. Please update jupyter and ipywidgets. See https://ipywidgets.readthedocs.io/en/stable/user_install.html\n",
            "  from .autonotebook import tqdm as notebook_tqdm\n"
          ]
        }
      ],
      "source": [
        "# Standard\n",
        "import pandas as pd\n",
        "import numpy as np\n",
        "import seaborn as sns\n",
        "import matplotlib.pyplot as plt\n",
        "\n",
        "# Dataset\n",
        "import kagglehub\n",
        "\n",
        "# Preprocessing\n",
        "from sklearn.preprocessing import LabelEncoder\n",
        "from sklearn.preprocessing import FunctionTransformer\n",
        "from sklearn.preprocessing import StandardScaler\n",
        "\n",
        "# Division du dataset\n",
        "from sklearn.model_selection import train_test_split\n",
        "\n",
        "# Modèle de regression\n",
        "from sklearn.linear_model import LinearRegression\n",
        "from sklearn.svm import SVR\n",
        "from sklearn.tree import DecisionTreeRegressor\n",
        "from sklearn.ensemble import RandomForestRegressor\n",
        "from sklearn.neighbors import KNeighborsRegressor\n",
        "\n",
        "# Métriques de performance\n",
        "from sklearn.metrics import mean_absolute_error, mean_absolute_percentage_error\n",
        "from sklearn.metrics import mean_squared_error, r2_score\n",
        "\n",
        "# Optimisation du modèle testé\n",
        "from sklearn.model_selection import GridSearchCV\n",
        "\n",
        "# Suppression des warnings\n",
        "import warnings\n",
        "warnings.filterwarnings(\"ignore\")"
      ]
    },
    {
      "cell_type": "markdown",
      "id": "61497a83",
      "metadata": {
        "id": "61497a83"
      },
      "source": [
        "# 2-DataFrame"
      ]
    },
    {
      "cell_type": "code",
      "execution_count": 2,
      "id": "7331617c",
      "metadata": {
        "id": "7331617c"
      },
      "outputs": [],
      "source": [
        "path = kagglehub.dataset_download(\"miadul/brain-tumor-dataset\")\n",
        "df = pd.read_csv(f\"{path}/brain_tumor_dataset.csv\")"
      ]
    },
    {
      "cell_type": "markdown",
      "id": "26b89dba",
      "metadata": {
        "id": "26b89dba"
      },
      "source": [
        "# 3- Analyse Exploratoire des Données (EDA)"
      ]
    },
    {
      "cell_type": "code",
      "execution_count": 3,
      "id": "4d15724e",
      "metadata": {
        "colab": {
          "base_uri": "https://localhost:8080/",
          "height": 278
        },
        "id": "4d15724e",
        "outputId": "11dc0472-9bf5-4113-c3af-15f56691e30c"
      },
      "outputs": [
        {
          "data": {
            "text/html": [
              "<div>\n",
              "<style scoped>\n",
              "    .dataframe tbody tr th:only-of-type {\n",
              "        vertical-align: middle;\n",
              "    }\n",
              "\n",
              "    .dataframe tbody tr th {\n",
              "        vertical-align: top;\n",
              "    }\n",
              "\n",
              "    .dataframe thead th {\n",
              "        text-align: right;\n",
              "    }\n",
              "</style>\n",
              "<table border=\"1\" class=\"dataframe\">\n",
              "  <thead>\n",
              "    <tr style=\"text-align: right;\">\n",
              "      <th></th>\n",
              "      <th>Patient_ID</th>\n",
              "      <th>Age</th>\n",
              "      <th>Gender</th>\n",
              "      <th>Tumor_Type</th>\n",
              "      <th>Tumor_Size</th>\n",
              "      <th>Location</th>\n",
              "      <th>Histology</th>\n",
              "      <th>Stage</th>\n",
              "      <th>Symptom_1</th>\n",
              "      <th>Symptom_2</th>\n",
              "      <th>Symptom_3</th>\n",
              "      <th>Radiation_Treatment</th>\n",
              "      <th>Surgery_Performed</th>\n",
              "      <th>Chemotherapy</th>\n",
              "      <th>Survival_Rate</th>\n",
              "      <th>Tumor_Growth_Rate</th>\n",
              "      <th>Family_History</th>\n",
              "      <th>MRI_Result</th>\n",
              "      <th>Follow_Up_Required</th>\n",
              "    </tr>\n",
              "  </thead>\n",
              "  <tbody>\n",
              "    <tr>\n",
              "      <th>0</th>\n",
              "      <td>1</td>\n",
              "      <td>73</td>\n",
              "      <td>Male</td>\n",
              "      <td>Malignant</td>\n",
              "      <td>5.375612</td>\n",
              "      <td>Temporal</td>\n",
              "      <td>Astrocytoma</td>\n",
              "      <td>III</td>\n",
              "      <td>Vision Issues</td>\n",
              "      <td>Seizures</td>\n",
              "      <td>Seizures</td>\n",
              "      <td>No</td>\n",
              "      <td>No</td>\n",
              "      <td>No</td>\n",
              "      <td>51.312579</td>\n",
              "      <td>0.111876</td>\n",
              "      <td>No</td>\n",
              "      <td>Positive</td>\n",
              "      <td>Yes</td>\n",
              "    </tr>\n",
              "    <tr>\n",
              "      <th>1</th>\n",
              "      <td>2</td>\n",
              "      <td>26</td>\n",
              "      <td>Male</td>\n",
              "      <td>Benign</td>\n",
              "      <td>4.847098</td>\n",
              "      <td>Parietal</td>\n",
              "      <td>Glioblastoma</td>\n",
              "      <td>II</td>\n",
              "      <td>Headache</td>\n",
              "      <td>Headache</td>\n",
              "      <td>Nausea</td>\n",
              "      <td>Yes</td>\n",
              "      <td>Yes</td>\n",
              "      <td>Yes</td>\n",
              "      <td>46.373273</td>\n",
              "      <td>2.165736</td>\n",
              "      <td>Yes</td>\n",
              "      <td>Positive</td>\n",
              "      <td>Yes</td>\n",
              "    </tr>\n",
              "    <tr>\n",
              "      <th>2</th>\n",
              "      <td>3</td>\n",
              "      <td>31</td>\n",
              "      <td>Male</td>\n",
              "      <td>Benign</td>\n",
              "      <td>5.588391</td>\n",
              "      <td>Parietal</td>\n",
              "      <td>Meningioma</td>\n",
              "      <td>I</td>\n",
              "      <td>Vision Issues</td>\n",
              "      <td>Headache</td>\n",
              "      <td>Seizures</td>\n",
              "      <td>No</td>\n",
              "      <td>No</td>\n",
              "      <td>No</td>\n",
              "      <td>47.072221</td>\n",
              "      <td>1.884228</td>\n",
              "      <td>No</td>\n",
              "      <td>Negative</td>\n",
              "      <td>No</td>\n",
              "    </tr>\n",
              "    <tr>\n",
              "      <th>3</th>\n",
              "      <td>4</td>\n",
              "      <td>29</td>\n",
              "      <td>Male</td>\n",
              "      <td>Malignant</td>\n",
              "      <td>1.436600</td>\n",
              "      <td>Temporal</td>\n",
              "      <td>Medulloblastoma</td>\n",
              "      <td>IV</td>\n",
              "      <td>Vision Issues</td>\n",
              "      <td>Seizures</td>\n",
              "      <td>Headache</td>\n",
              "      <td>Yes</td>\n",
              "      <td>No</td>\n",
              "      <td>Yes</td>\n",
              "      <td>51.853634</td>\n",
              "      <td>1.283342</td>\n",
              "      <td>Yes</td>\n",
              "      <td>Negative</td>\n",
              "      <td>No</td>\n",
              "    </tr>\n",
              "    <tr>\n",
              "      <th>4</th>\n",
              "      <td>5</td>\n",
              "      <td>54</td>\n",
              "      <td>Female</td>\n",
              "      <td>Benign</td>\n",
              "      <td>2.417506</td>\n",
              "      <td>Parietal</td>\n",
              "      <td>Glioblastoma</td>\n",
              "      <td>I</td>\n",
              "      <td>Headache</td>\n",
              "      <td>Headache</td>\n",
              "      <td>Seizures</td>\n",
              "      <td>No</td>\n",
              "      <td>No</td>\n",
              "      <td>Yes</td>\n",
              "      <td>54.708987</td>\n",
              "      <td>2.069477</td>\n",
              "      <td>No</td>\n",
              "      <td>Positive</td>\n",
              "      <td>Yes</td>\n",
              "    </tr>\n",
              "  </tbody>\n",
              "</table>\n",
              "</div>"
            ],
            "text/plain": [
              "   Patient_ID  Age  Gender Tumor_Type  Tumor_Size  Location        Histology  \\\n",
              "0           1   73    Male  Malignant    5.375612  Temporal      Astrocytoma   \n",
              "1           2   26    Male     Benign    4.847098  Parietal     Glioblastoma   \n",
              "2           3   31    Male     Benign    5.588391  Parietal       Meningioma   \n",
              "3           4   29    Male  Malignant    1.436600  Temporal  Medulloblastoma   \n",
              "4           5   54  Female     Benign    2.417506  Parietal     Glioblastoma   \n",
              "\n",
              "  Stage      Symptom_1 Symptom_2 Symptom_3 Radiation_Treatment  \\\n",
              "0   III  Vision Issues  Seizures  Seizures                  No   \n",
              "1    II       Headache  Headache    Nausea                 Yes   \n",
              "2     I  Vision Issues  Headache  Seizures                  No   \n",
              "3    IV  Vision Issues  Seizures  Headache                 Yes   \n",
              "4     I       Headache  Headache  Seizures                  No   \n",
              "\n",
              "  Surgery_Performed Chemotherapy  Survival_Rate  Tumor_Growth_Rate  \\\n",
              "0                No           No      51.312579           0.111876   \n",
              "1               Yes          Yes      46.373273           2.165736   \n",
              "2                No           No      47.072221           1.884228   \n",
              "3                No          Yes      51.853634           1.283342   \n",
              "4                No          Yes      54.708987           2.069477   \n",
              "\n",
              "  Family_History MRI_Result Follow_Up_Required  \n",
              "0             No   Positive                Yes  \n",
              "1            Yes   Positive                Yes  \n",
              "2             No   Negative                 No  \n",
              "3            Yes   Negative                 No  \n",
              "4             No   Positive                Yes  "
            ]
          },
          "execution_count": 3,
          "metadata": {},
          "output_type": "execute_result"
        }
      ],
      "source": [
        "# Visualisation du dataset\n",
        "df.head()"
      ]
    },
    {
      "cell_type": "code",
      "execution_count": 4,
      "id": "ea3c7860",
      "metadata": {
        "colab": {
          "base_uri": "https://localhost:8080/",
          "height": 278
        },
        "id": "ea3c7860",
        "outputId": "86fc6b81-d7be-4484-b7ae-f076695c1d91"
      },
      "outputs": [
        {
          "data": {
            "text/html": [
              "<div>\n",
              "<style scoped>\n",
              "    .dataframe tbody tr th:only-of-type {\n",
              "        vertical-align: middle;\n",
              "    }\n",
              "\n",
              "    .dataframe tbody tr th {\n",
              "        vertical-align: top;\n",
              "    }\n",
              "\n",
              "    .dataframe thead th {\n",
              "        text-align: right;\n",
              "    }\n",
              "</style>\n",
              "<table border=\"1\" class=\"dataframe\">\n",
              "  <thead>\n",
              "    <tr style=\"text-align: right;\">\n",
              "      <th></th>\n",
              "      <th>Age</th>\n",
              "      <th>Gender</th>\n",
              "      <th>Tumor_Type</th>\n",
              "      <th>Tumor_Size</th>\n",
              "      <th>Location</th>\n",
              "      <th>Histology</th>\n",
              "      <th>Stage</th>\n",
              "      <th>Symptom_1</th>\n",
              "      <th>Symptom_2</th>\n",
              "      <th>Symptom_3</th>\n",
              "      <th>Radiation_Treatment</th>\n",
              "      <th>Surgery_Performed</th>\n",
              "      <th>Chemotherapy</th>\n",
              "      <th>Survival_Rate</th>\n",
              "      <th>Tumor_Growth_Rate</th>\n",
              "      <th>Family_History</th>\n",
              "      <th>MRI_Result</th>\n",
              "      <th>Follow_Up_Required</th>\n",
              "    </tr>\n",
              "  </thead>\n",
              "  <tbody>\n",
              "    <tr>\n",
              "      <th>0</th>\n",
              "      <td>73</td>\n",
              "      <td>Male</td>\n",
              "      <td>Malignant</td>\n",
              "      <td>5.375612</td>\n",
              "      <td>Temporal</td>\n",
              "      <td>Astrocytoma</td>\n",
              "      <td>III</td>\n",
              "      <td>Vision Issues</td>\n",
              "      <td>Seizures</td>\n",
              "      <td>Seizures</td>\n",
              "      <td>No</td>\n",
              "      <td>No</td>\n",
              "      <td>No</td>\n",
              "      <td>51.312579</td>\n",
              "      <td>0.111876</td>\n",
              "      <td>No</td>\n",
              "      <td>Positive</td>\n",
              "      <td>Yes</td>\n",
              "    </tr>\n",
              "    <tr>\n",
              "      <th>1</th>\n",
              "      <td>26</td>\n",
              "      <td>Male</td>\n",
              "      <td>Benign</td>\n",
              "      <td>4.847098</td>\n",
              "      <td>Parietal</td>\n",
              "      <td>Glioblastoma</td>\n",
              "      <td>II</td>\n",
              "      <td>Headache</td>\n",
              "      <td>Headache</td>\n",
              "      <td>Nausea</td>\n",
              "      <td>Yes</td>\n",
              "      <td>Yes</td>\n",
              "      <td>Yes</td>\n",
              "      <td>46.373273</td>\n",
              "      <td>2.165736</td>\n",
              "      <td>Yes</td>\n",
              "      <td>Positive</td>\n",
              "      <td>Yes</td>\n",
              "    </tr>\n",
              "    <tr>\n",
              "      <th>2</th>\n",
              "      <td>31</td>\n",
              "      <td>Male</td>\n",
              "      <td>Benign</td>\n",
              "      <td>5.588391</td>\n",
              "      <td>Parietal</td>\n",
              "      <td>Meningioma</td>\n",
              "      <td>I</td>\n",
              "      <td>Vision Issues</td>\n",
              "      <td>Headache</td>\n",
              "      <td>Seizures</td>\n",
              "      <td>No</td>\n",
              "      <td>No</td>\n",
              "      <td>No</td>\n",
              "      <td>47.072221</td>\n",
              "      <td>1.884228</td>\n",
              "      <td>No</td>\n",
              "      <td>Negative</td>\n",
              "      <td>No</td>\n",
              "    </tr>\n",
              "    <tr>\n",
              "      <th>3</th>\n",
              "      <td>29</td>\n",
              "      <td>Male</td>\n",
              "      <td>Malignant</td>\n",
              "      <td>1.436600</td>\n",
              "      <td>Temporal</td>\n",
              "      <td>Medulloblastoma</td>\n",
              "      <td>IV</td>\n",
              "      <td>Vision Issues</td>\n",
              "      <td>Seizures</td>\n",
              "      <td>Headache</td>\n",
              "      <td>Yes</td>\n",
              "      <td>No</td>\n",
              "      <td>Yes</td>\n",
              "      <td>51.853634</td>\n",
              "      <td>1.283342</td>\n",
              "      <td>Yes</td>\n",
              "      <td>Negative</td>\n",
              "      <td>No</td>\n",
              "    </tr>\n",
              "    <tr>\n",
              "      <th>4</th>\n",
              "      <td>54</td>\n",
              "      <td>Female</td>\n",
              "      <td>Benign</td>\n",
              "      <td>2.417506</td>\n",
              "      <td>Parietal</td>\n",
              "      <td>Glioblastoma</td>\n",
              "      <td>I</td>\n",
              "      <td>Headache</td>\n",
              "      <td>Headache</td>\n",
              "      <td>Seizures</td>\n",
              "      <td>No</td>\n",
              "      <td>No</td>\n",
              "      <td>Yes</td>\n",
              "      <td>54.708987</td>\n",
              "      <td>2.069477</td>\n",
              "      <td>No</td>\n",
              "      <td>Positive</td>\n",
              "      <td>Yes</td>\n",
              "    </tr>\n",
              "  </tbody>\n",
              "</table>\n",
              "</div>"
            ],
            "text/plain": [
              "   Age  Gender Tumor_Type  Tumor_Size  Location        Histology Stage  \\\n",
              "0   73    Male  Malignant    5.375612  Temporal      Astrocytoma   III   \n",
              "1   26    Male     Benign    4.847098  Parietal     Glioblastoma    II   \n",
              "2   31    Male     Benign    5.588391  Parietal       Meningioma     I   \n",
              "3   29    Male  Malignant    1.436600  Temporal  Medulloblastoma    IV   \n",
              "4   54  Female     Benign    2.417506  Parietal     Glioblastoma     I   \n",
              "\n",
              "       Symptom_1 Symptom_2 Symptom_3 Radiation_Treatment Surgery_Performed  \\\n",
              "0  Vision Issues  Seizures  Seizures                  No                No   \n",
              "1       Headache  Headache    Nausea                 Yes               Yes   \n",
              "2  Vision Issues  Headache  Seizures                  No                No   \n",
              "3  Vision Issues  Seizures  Headache                 Yes                No   \n",
              "4       Headache  Headache  Seizures                  No                No   \n",
              "\n",
              "  Chemotherapy  Survival_Rate  Tumor_Growth_Rate Family_History MRI_Result  \\\n",
              "0           No      51.312579           0.111876             No   Positive   \n",
              "1          Yes      46.373273           2.165736            Yes   Positive   \n",
              "2           No      47.072221           1.884228             No   Negative   \n",
              "3          Yes      51.853634           1.283342            Yes   Negative   \n",
              "4          Yes      54.708987           2.069477             No   Positive   \n",
              "\n",
              "  Follow_Up_Required  \n",
              "0                Yes  \n",
              "1                Yes  \n",
              "2                 No  \n",
              "3                 No  \n",
              "4                Yes  "
            ]
          },
          "execution_count": 4,
          "metadata": {},
          "output_type": "execute_result"
        }
      ],
      "source": [
        "# Supression de colonne inutile\n",
        "df=df.drop('Patient_ID',axis=1)\n",
        "df.head()"
      ]
    },
    {
      "cell_type": "code",
      "execution_count": 5,
      "id": "63923cea",
      "metadata": {
        "colab": {
          "base_uri": "https://localhost:8080/"
        },
        "id": "63923cea",
        "outputId": "dcd86402-a8fc-4e8c-ac9a-084635df2a1f"
      },
      "outputs": [
        {
          "name": "stdout",
          "output_type": "stream",
          "text": [
            "<class 'pandas.core.frame.DataFrame'>\n",
            "RangeIndex: 20000 entries, 0 to 19999\n",
            "Data columns (total 18 columns):\n",
            " #   Column               Non-Null Count  Dtype  \n",
            "---  ------               --------------  -----  \n",
            " 0   Age                  20000 non-null  int64  \n",
            " 1   Gender               20000 non-null  object \n",
            " 2   Tumor_Type           20000 non-null  object \n",
            " 3   Tumor_Size           20000 non-null  float64\n",
            " 4   Location             20000 non-null  object \n",
            " 5   Histology            20000 non-null  object \n",
            " 6   Stage                20000 non-null  object \n",
            " 7   Symptom_1            20000 non-null  object \n",
            " 8   Symptom_2            20000 non-null  object \n",
            " 9   Symptom_3            20000 non-null  object \n",
            " 10  Radiation_Treatment  20000 non-null  object \n",
            " 11  Surgery_Performed    20000 non-null  object \n",
            " 12  Chemotherapy         20000 non-null  object \n",
            " 13  Survival_Rate        20000 non-null  float64\n",
            " 14  Tumor_Growth_Rate    20000 non-null  float64\n",
            " 15  Family_History       20000 non-null  object \n",
            " 16  MRI_Result           20000 non-null  object \n",
            " 17  Follow_Up_Required   20000 non-null  object \n",
            "dtypes: float64(3), int64(1), object(14)\n",
            "memory usage: 2.7+ MB\n"
          ]
        }
      ],
      "source": [
        "# Information du dataset\n",
        "df.info()"
      ]
    },
    {
      "cell_type": "code",
      "execution_count": 6,
      "id": "95654c2e",
      "metadata": {
        "colab": {
          "base_uri": "https://localhost:8080/",
          "height": 648
        },
        "id": "95654c2e",
        "outputId": "846a8e63-ea84-4d99-dfdb-44cf6b2db4e8"
      },
      "outputs": [
        {
          "data": {
            "text/plain": [
              "Age                    0\n",
              "Gender                 0\n",
              "Tumor_Type             0\n",
              "Tumor_Size             0\n",
              "Location               0\n",
              "Histology              0\n",
              "Stage                  0\n",
              "Symptom_1              0\n",
              "Symptom_2              0\n",
              "Symptom_3              0\n",
              "Radiation_Treatment    0\n",
              "Surgery_Performed      0\n",
              "Chemotherapy           0\n",
              "Survival_Rate          0\n",
              "Tumor_Growth_Rate      0\n",
              "Family_History         0\n",
              "MRI_Result             0\n",
              "Follow_Up_Required     0\n",
              "dtype: int64"
            ]
          },
          "execution_count": 6,
          "metadata": {},
          "output_type": "execute_result"
        }
      ],
      "source": [
        "# Verification si donnéées manquantes\n",
        "df.isnull().sum()"
      ]
    },
    {
      "cell_type": "code",
      "execution_count": 7,
      "id": "f384f75f",
      "metadata": {
        "colab": {
          "base_uri": "https://localhost:8080/",
          "height": 458
        },
        "id": "f384f75f",
        "outputId": "cbfc03f8-3c74-401e-85ea-ea99c6a36e50"
      },
      "outputs": [
        {
          "data": {
            "text/plain": [
              "0        51.312579\n",
              "1        46.373273\n",
              "2        47.072221\n",
              "3        51.853634\n",
              "4        54.708987\n",
              "           ...    \n",
              "19995    58.229662\n",
              "19996    77.706856\n",
              "19997    89.543803\n",
              "19998    83.306781\n",
              "19999    47.433468\n",
              "Name: Survival_Rate, Length: 20000, dtype: float64"
            ]
          },
          "execution_count": 7,
          "metadata": {},
          "output_type": "execute_result"
        }
      ],
      "source": [
        "# Visualisation de la colonne \"Taux de survie\"\n",
        "df['Survival_Rate']"
      ]
    },
    {
      "cell_type": "code",
      "execution_count": 8,
      "id": "93384a49",
      "metadata": {
        "colab": {
          "base_uri": "https://localhost:8080/",
          "height": 235
        },
        "id": "93384a49",
        "outputId": "4a7eeaa5-a146-47d4-86a7-7ff6c3453453"
      },
      "outputs": [
        {
          "data": {
            "text/plain": [
              "<Axes: title={'center': 'Taux de survie'}, xlabel='Count', ylabel='Survival_Rate'>"
            ]
          },
          "execution_count": 8,
          "metadata": {},
          "output_type": "execute_result"
        },
        {
          "data": {
            "image/png": "[encoded data removed]",
            "text/plain": [
              "<Figure size 1200x500 with 1 Axes>"
            ]
          },
          "metadata": {},
          "output_type": "display_data"
        }
      ],
      "source": [
        "# Visualisation par histogramme\n",
        "_, ax = plt.subplots( figsize=(12,5))\n",
        "\n",
        "ax.set_title('Taux de survie')\n",
        "sns.histplot(\n",
        "    data=df,\n",
        "    y='Survival_Rate',\n",
        "    kde=True,\n",
        ")"
      ]
    },
    {
      "cell_type": "markdown",
      "id": "6f1018e2",
      "metadata": {
        "id": "6f1018e2"
      },
      "source": [
        "# 4-Preprocessing"
      ]
    },
    {
      "cell_type": "markdown",
      "id": "9007549f",
      "metadata": {},
      "source": [
        "## 4.2-Normalisation"
      ]
    },
    {
      "cell_type": "markdown",
      "id": "291b69fe",
      "metadata": {
        "id": "291b69fe"
      },
      "source": [
        "### 4.2.1-LabelEncoder"
      ]
    },
    {
      "cell_type": "code",
      "execution_count": 9,
      "id": "bf212b66",
      "metadata": {},
      "outputs": [
        {
          "data": {
            "text/html": [
              "<div>\n",
              "<style scoped>\n",
              "    .dataframe tbody tr th:only-of-type {\n",
              "        vertical-align: middle;\n",
              "    }\n",
              "\n",
              "    .dataframe tbody tr th {\n",
              "        vertical-align: top;\n",
              "    }\n",
              "\n",
              "    .dataframe thead th {\n",
              "        text-align: right;\n",
              "    }\n",
              "</style>\n",
              "<table border=\"1\" class=\"dataframe\">\n",
              "  <thead>\n",
              "    <tr style=\"text-align: right;\">\n",
              "      <th></th>\n",
              "      <th>Age</th>\n",
              "      <th>Gender</th>\n",
              "      <th>Tumor_Type</th>\n",
              "      <th>Tumor_Size</th>\n",
              "      <th>Location</th>\n",
              "      <th>Histology</th>\n",
              "      <th>Stage</th>\n",
              "      <th>Symptom_1</th>\n",
              "      <th>Symptom_2</th>\n",
              "      <th>Symptom_3</th>\n",
              "      <th>Radiation_Treatment</th>\n",
              "      <th>Surgery_Performed</th>\n",
              "      <th>Chemotherapy</th>\n",
              "      <th>Survival_Rate</th>\n",
              "      <th>Tumor_Growth_Rate</th>\n",
              "      <th>Family_History</th>\n",
              "      <th>MRI_Result</th>\n",
              "      <th>Follow_Up_Required</th>\n",
              "    </tr>\n",
              "  </thead>\n",
              "  <tbody>\n",
              "    <tr>\n",
              "      <th>0</th>\n",
              "      <td>73</td>\n",
              "      <td>1</td>\n",
              "      <td>1</td>\n",
              "      <td>5.375612</td>\n",
              "      <td>3</td>\n",
              "      <td>0</td>\n",
              "      <td>2</td>\n",
              "      <td>3</td>\n",
              "      <td>2</td>\n",
              "      <td>2</td>\n",
              "      <td>0</td>\n",
              "      <td>0</td>\n",
              "      <td>0</td>\n",
              "      <td>51.312579</td>\n",
              "      <td>0.111876</td>\n",
              "      <td>0</td>\n",
              "      <td>1</td>\n",
              "      <td>1</td>\n",
              "    </tr>\n",
              "    <tr>\n",
              "      <th>1</th>\n",
              "      <td>26</td>\n",
              "      <td>1</td>\n",
              "      <td>0</td>\n",
              "      <td>4.847098</td>\n",
              "      <td>2</td>\n",
              "      <td>1</td>\n",
              "      <td>1</td>\n",
              "      <td>0</td>\n",
              "      <td>0</td>\n",
              "      <td>1</td>\n",
              "      <td>1</td>\n",
              "      <td>1</td>\n",
              "      <td>1</td>\n",
              "      <td>46.373273</td>\n",
              "      <td>2.165736</td>\n",
              "      <td>1</td>\n",
              "      <td>1</td>\n",
              "      <td>1</td>\n",
              "    </tr>\n",
              "    <tr>\n",
              "      <th>2</th>\n",
              "      <td>31</td>\n",
              "      <td>1</td>\n",
              "      <td>0</td>\n",
              "      <td>5.588391</td>\n",
              "      <td>2</td>\n",
              "      <td>3</td>\n",
              "      <td>0</td>\n",
              "      <td>3</td>\n",
              "      <td>0</td>\n",
              "      <td>2</td>\n",
              "      <td>0</td>\n",
              "      <td>0</td>\n",
              "      <td>0</td>\n",
              "      <td>47.072221</td>\n",
              "      <td>1.884228</td>\n",
              "      <td>0</td>\n",
              "      <td>0</td>\n",
              "      <td>0</td>\n",
              "    </tr>\n",
              "    <tr>\n",
              "      <th>3</th>\n",
              "      <td>29</td>\n",
              "      <td>1</td>\n",
              "      <td>1</td>\n",
              "      <td>1.436600</td>\n",
              "      <td>3</td>\n",
              "      <td>2</td>\n",
              "      <td>3</td>\n",
              "      <td>3</td>\n",
              "      <td>2</td>\n",
              "      <td>0</td>\n",
              "      <td>1</td>\n",
              "      <td>0</td>\n",
              "      <td>1</td>\n",
              "      <td>51.853634</td>\n",
              "      <td>1.283342</td>\n",
              "      <td>1</td>\n",
              "      <td>0</td>\n",
              "      <td>0</td>\n",
              "    </tr>\n",
              "    <tr>\n",
              "      <th>4</th>\n",
              "      <td>54</td>\n",
              "      <td>0</td>\n",
              "      <td>0</td>\n",
              "      <td>2.417506</td>\n",
              "      <td>2</td>\n",
              "      <td>1</td>\n",
              "      <td>0</td>\n",
              "      <td>0</td>\n",
              "      <td>0</td>\n",
              "      <td>2</td>\n",
              "      <td>0</td>\n",
              "      <td>0</td>\n",
              "      <td>1</td>\n",
              "      <td>54.708987</td>\n",
              "      <td>2.069477</td>\n",
              "      <td>0</td>\n",
              "      <td>1</td>\n",
              "      <td>1</td>\n",
              "    </tr>\n",
              "  </tbody>\n",
              "</table>\n",
              "</div>"
            ],
            "text/plain": [
              "   Age  Gender  Tumor_Type  Tumor_Size  Location  Histology  Stage  Symptom_1  \\\n",
              "0   73       1           1    5.375612         3          0      2          3   \n",
              "1   26       1           0    4.847098         2          1      1          0   \n",
              "2   31       1           0    5.588391         2          3      0          3   \n",
              "3   29       1           1    1.436600         3          2      3          3   \n",
              "4   54       0           0    2.417506         2          1      0          0   \n",
              "\n",
              "   Symptom_2  Symptom_3  Radiation_Treatment  Surgery_Performed  Chemotherapy  \\\n",
              "0          2          2                    0                  0             0   \n",
              "1          0          1                    1                  1             1   \n",
              "2          0          2                    0                  0             0   \n",
              "3          2          0                    1                  0             1   \n",
              "4          0          2                    0                  0             1   \n",
              "\n",
              "   Survival_Rate  Tumor_Growth_Rate  Family_History  MRI_Result  \\\n",
              "0      51.312579           0.111876               0           1   \n",
              "1      46.373273           2.165736               1           1   \n",
              "2      47.072221           1.884228               0           0   \n",
              "3      51.853634           1.283342               1           0   \n",
              "4      54.708987           2.069477               0           1   \n",
              "\n",
              "   Follow_Up_Required  \n",
              "0                   1  \n",
              "1                   1  \n",
              "2                   0  \n",
              "3                   0  \n",
              "4                   1  "
            ]
          },
          "execution_count": 9,
          "metadata": {},
          "output_type": "execute_result"
        }
      ],
      "source": [
        "# Initialiser le LabelEncoder\n",
        "label_encoder = LabelEncoder()\n",
        "\n",
        "# Convertir les données objet en numérique\n",
        "for column in df.select_dtypes(include=['object']).columns:\n",
        "    df[column] = label_encoder.fit_transform(df[column])\n",
        "\n",
        "# Visualisation\n",
        "df.head()"
      ]
    },
    {
      "cell_type": "markdown",
      "id": "93c7d586",
      "metadata": {},
      "source": [
        "## 4.1-Dataset d'entrainement et de test "
      ]
    },
    {
      "cell_type": "code",
      "execution_count": 10,
      "id": "7be6dbff",
      "metadata": {},
      "outputs": [
        {
          "data": {
            "text/plain": [
              "((20000, 17), (20000,))"
            ]
          },
          "execution_count": 10,
          "metadata": {},
          "output_type": "execute_result"
        }
      ],
      "source": [
        "# Définir les features et les target\n",
        "X = df.drop('Survival_Rate', axis=1)\n",
        "y = df['Survival_Rate']\n",
        "\n",
        "# Diviser les données en sous-ensemble d'entrainement et de test\n",
        "X_train, X_test, y_train, y_test = train_test_split(X, y, test_size=0.2, random_state=42)\n",
        "\n",
        "X.shape, y.shape"
      ]
    },
    {
      "cell_type": "markdown",
      "id": "2f50c1d6",
      "metadata": {},
      "source": [
        "## 4.3-StandardScaler les features"
      ]
    },
    {
      "cell_type": "code",
      "execution_count": 11,
      "id": "8cb22e86",
      "metadata": {},
      "outputs": [
        {
          "data": {
            "text/plain": [
              "((16000, 17), (4000, 17))"
            ]
          },
          "execution_count": 11,
          "metadata": {},
          "output_type": "execute_result"
        }
      ],
      "source": [
        "# Mise a l'echelle des features des 2 datasets\n",
        "scaler = StandardScaler()\n",
        "X_train_scaled = scaler.fit_transform(X_train)\n",
        "X_test_scaled = scaler.transform(X_test)\n",
        "\n",
        "# Visualisation\n",
        "X_train_scaled.shape, X_test_scaled.shape"
      ]
    },
    {
      "cell_type": "markdown",
      "id": "f616c825",
      "metadata": {},
      "source": [
        "## 4.4-Transformer les targets"
      ]
    },
    {
      "cell_type": "code",
      "execution_count": 12,
      "id": "b03634e8",
      "metadata": {},
      "outputs": [
        {
          "data": {
            "text/plain": [
              "((16000, 17), (4000, 17))"
            ]
          },
          "execution_count": 12,
          "metadata": {},
          "output_type": "execute_result"
        }
      ],
      "source": [
        "# Initialser le Transformer\n",
        "transformer = FunctionTransformer(np.log1p, validate=True)\n",
        "y_train_trans = transformer.fit_transform(X_train_scaled)\n",
        "y_test_trans = transformer.fit_transform(X_test_scaled)\n",
        "\n",
        "# Visualisation\n",
        "y_train_trans.shape, y_test_trans.shape\n",
        "\n",
        "# Creation du DataFrame transfomé\n",
        "# df_combine = pd.(X_train_scaled, y_train_trans)\n",
        "\n",
        "# Visualisation\n",
        "# df_combine.head()"
      ]
    },
    {
      "cell_type": "markdown",
      "id": "3c7e2757",
      "metadata": {
        "id": "3c7e2757"
      },
      "source": [
        "# 5-Choix du Modèle de Régression"
      ]
    },
    {
      "cell_type": "markdown",
      "id": "ce0022e3",
      "metadata": {
        "id": "ce0022e3"
      },
      "source": [
        "## 5.1-Modèles de régression"
      ]
    },
    {
      "cell_type": "code",
      "execution_count": 13,
      "id": "c36e0ead",
      "metadata": {
        "id": "c36e0ead"
      },
      "outputs": [],
      "source": [
        "models = {\n",
        "    'LinearRegression': LinearRegression(),\n",
        "    'Decision Tree': DecisionTreeRegressor(random_state=42),\n",
        "    'Random Forest': RandomForestRegressor(random_state=42),\n",
        "    'Support Vector Regressor' : SVR(),\n",
        "    'KNN': KNeighborsRegressor()\n",
        "}"
      ]
    },
    {
      "cell_type": "markdown",
      "id": "4ca53418",
      "metadata": {
        "id": "4ca53418"
      },
      "source": [
        "## 5.2-Entrainement des modèles entrainés"
      ]
    },
    {
      "cell_type": "code",
      "execution_count": 14,
      "id": "f0a9a363",
      "metadata": {
        "colab": {
          "base_uri": "https://localhost:8080/"
        },
        "id": "f0a9a363",
        "outputId": "6451c367-ee8b-4673-f785-39487592542f"
      },
      "outputs": [
        {
          "name": "stdout",
          "output_type": "stream",
          "text": [
            "Performance de LinearRegression:\n",
            "Mean Absolute Error: 14.8062\n",
            "Mean Squared Error: 295.0935\n",
            "R^2 Score: -0.0003\n",
            "Accuracy: 76.74%\n",
            "\n",
            "Performance de Decision Tree:\n",
            "Mean Absolute Error: 20.1982\n",
            "Mean Squared Error: 610.6036\n",
            "R^2 Score: -1.0699\n",
            "Accuracy: 68.76%\n",
            "\n",
            "Performance de Random Forest:\n",
            "Mean Absolute Error: 14.9075\n",
            "Mean Squared Error: 302.7931\n",
            "R^2 Score: -0.0264\n",
            "Accuracy: 76.59%\n",
            "\n",
            "Performance de Support Vector Regressor:\n",
            "Mean Absolute Error: 14.8386\n",
            "Mean Squared Error: 298.2405\n",
            "R^2 Score: -0.0110\n",
            "Accuracy: 76.68%\n",
            "\n",
            "Performance de KNN:\n",
            "Mean Absolute Error: 15.9444\n",
            "Mean Squared Error: 362.7874\n",
            "R^2 Score: -0.2298\n",
            "Accuracy: 75.07%\n",
            "\n"
          ]
        }
      ],
      "source": [
        "results = {}\n",
        "\n",
        "for name, model in models.items():\n",
        "        # Entrainement des modeles\n",
        "        model.fit(X_train_scaled, y_train)\n",
        "\n",
        "        # Prediction avec les données Test\n",
        "        y_pred = model.predict(X_test_scaled)\n",
        "        mae = mean_absolute_error(y_test, y_pred)\n",
        "        mse = mean_squared_error(y_test, y_pred)\n",
        "        r2 = r2_score(y_test, y_pred)\n",
        "        mape = mean_absolute_percentage_error(y_test, y_pred) * 100\n",
        "        accuracy = 100 - mape\n",
        "\n",
        "        results[name] = {\n",
        "        'MAE': mae,\n",
        "        'MSE': mse,\n",
        "        'R2': r2,\n",
        "        'Accuracy': accuracy\n",
        "        }\n",
        "\n",
        "        print(f\"Performance de {name}:\")\n",
        "        print(f\"Mean Absolute Error: {mae:.4f}\")\n",
        "        print(f\"Mean Squared Error: {mse:.4f}\")\n",
        "        print(f\"R^2 Score: {r2:.4f}\")\n",
        "        print(f\"Accuracy: {accuracy:.2f}%\\n\")"
      ]
    },
    {
      "cell_type": "markdown",
      "id": "577d840e",
      "metadata": {
        "id": "577d840e"
      },
      "source": [
        "## 5.3-Visualisation de la performance des modèles"
      ]
    },
    {
      "cell_type": "code",
      "execution_count": 15,
      "id": "a77d5f78",
      "metadata": {
        "colab": {
          "base_uri": "https://localhost:8080/",
          "height": 269
        },
        "id": "a77d5f78",
        "outputId": "0db2541f-a588-49e5-9573-ea6d701501d8"
      },
      "outputs": [
        {
          "data": {
            "image/png": "[encoded data removed]",
            "text/plain": [
              "<Figure size 2000x800 with 4 Axes>"
            ]
          },
          "metadata": {},
          "output_type": "display_data"
        }
      ],
      "source": [
        "# Création des Graphiques Barplot\n",
        "fig, ax = plt.subplots(1, 4, figsize=(20, 8))\n",
        "fig.suptitle(\"Performance des modèles\", fontsize=18)\n",
        "\n",
        "\n",
        "# Recupération des resultats\n",
        "model_names = list(results.keys())\n",
        "mae_values = [results[name]['MAE'] for name in model_names]\n",
        "mse_values = [results[name]['MSE'] for name in model_names]\n",
        "r2_values = [results[name]['R2'] for name in model_names]\n",
        "accuracy_values = [results[name]['Accuracy'] for name in model_names]\n",
        "\n",
        "# MAE\n",
        "ax[0].bar(model_names, mae_values, color=\"blue\")\n",
        "ax[0].set_title(\"Mean Absolute Error (MAE)\")\n",
        "ax[0].set_ylabel(\"Error\")\n",
        "ax[0].set_xticklabels(model_names, rotation=25, ha=\"right\")\n",
        "\n",
        "# MSE\n",
        "ax[1].bar(model_names, mse_values, color=\"green\")\n",
        "ax[1].set_title(\"Mean Squared Error (MSE)\")\n",
        "ax[1].set_ylabel(\"Error\")\n",
        "ax[1].set_xticklabels(model_names, rotation=25, ha=\"right\")\n",
        "\n",
        "# R^2 Score\n",
        "ax[2].bar(model_names, r2_values, color=\"yellow\")\n",
        "ax[2].set_title(\"R² Score\")\n",
        "ax[2].set_ylabel(\"Score\")\n",
        "ax[2].set_xticklabels(model_names, rotation=25, ha=\"right\")\n",
        "\n",
        "# Accuracy\n",
        "ax[3].bar(model_names, accuracy_values, color=\"purple\")\n",
        "ax[3].set_title(\"Accuracy (%)\")\n",
        "ax[3].set_ylabel(\"Percentage\")\n",
        "ax[3].set_xticklabels(model_names, rotation=25, ha=\"right\")\n",
        "\n",
        "plt.tight_layout(rect=[0, 0, 1, 0.96])\n",
        "plt.show()"
      ]
    },
    {
      "cell_type": "markdown",
      "id": "5e2a4485",
      "metadata": {},
      "source": [
        "# 6 -Optimisation des modèles par Gridsearch"
      ]
    },
    {
      "cell_type": "markdown",
      "id": "748aba79",
      "metadata": {
        "id": "748aba79"
      },
      "source": [
        "## 6.1- Visualisation des parametres de chaque modèle"
      ]
    },
    {
      "cell_type": "code",
      "execution_count": 16,
      "id": "31b58ef0",
      "metadata": {
        "colab": {
          "base_uri": "https://localhost:8080/"
        },
        "id": "31b58ef0",
        "outputId": "c3fe741b-bb3a-4198-e24c-2bd5bbabec2c"
      },
      "outputs": [
        {
          "name": "stdout",
          "output_type": "stream",
          "text": [
            "Paramètres de LinearRegression:\n",
            "{'copy_X': True, 'fit_intercept': True, 'n_jobs': None, 'positive': False, 'tol': 1e-06}\n",
            "--------------------------------------------------\n",
            "Paramètres de Decision Tree:\n",
            "{'ccp_alpha': 0.0, 'criterion': 'squared_error', 'max_depth': None, 'max_features': None, 'max_leaf_nodes': None, 'min_impurity_decrease': 0.0, 'min_samples_leaf': 1, 'min_samples_split': 2, 'min_weight_fraction_leaf': 0.0, 'monotonic_cst': None, 'random_state': 42, 'splitter': 'best'}\n",
            "--------------------------------------------------\n",
            "Paramètres de Random Forest:\n",
            "{'bootstrap': True, 'ccp_alpha': 0.0, 'criterion': 'squared_error', 'max_depth': None, 'max_features': 1.0, 'max_leaf_nodes': None, 'max_samples': None, 'min_impurity_decrease': 0.0, 'min_samples_leaf': 1, 'min_samples_split': 2, 'min_weight_fraction_leaf': 0.0, 'monotonic_cst': None, 'n_estimators': 100, 'n_jobs': None, 'oob_score': False, 'random_state': 42, 'verbose': 0, 'warm_start': False}\n",
            "--------------------------------------------------\n",
            "Paramètres de Support Vector Regressor:\n",
            "{'C': 1.0, 'cache_size': 200, 'coef0': 0.0, 'degree': 3, 'epsilon': 0.1, 'gamma': 'scale', 'kernel': 'rbf', 'max_iter': -1, 'shrinking': True, 'tol': 0.001, 'verbose': False}\n",
            "--------------------------------------------------\n",
            "Paramètres de KNN:\n",
            "{'algorithm': 'auto', 'leaf_size': 30, 'metric': 'minkowski', 'metric_params': None, 'n_jobs': None, 'n_neighbors': 5, 'p': 2, 'weights': 'uniform'}\n",
            "--------------------------------------------------\n"
          ]
        }
      ],
      "source": [
        "# Récupération des paramètres pour chaque modèle\n",
        "for model_name, model in models.items():\n",
        "    print(f\"Paramètres de {model_name}:\")\n",
        "    print(model.get_params())\n",
        "    print(\"-\" * 50)"
      ]
    },
    {
      "cell_type": "markdown",
      "id": "f29e782a",
      "metadata": {},
      "source": [
        "## 6.2-Grille de valeurs des paramètres pour chaque modèle"
      ]
    },
    {
      "cell_type": "code",
      "execution_count": 17,
      "id": "5e358dfe",
      "metadata": {
        "colab": {
          "base_uri": "https://localhost:8080/"
        },
        "id": "5e358dfe",
        "outputId": "3f3f16f2-f67e-486d-9726-65abb92c0c16"
      },
      "outputs": [],
      "source": [
        "params_grid = {\n",
        "    \"LinearRegression\": {'copy_X': [True,False], 'fit_intercept': [True,False], 'positive': [True,False]},\n",
        "    \"Decision Tree\": {'max_depth': [3, 5, 10, None],'min_samples_split': [2, 5, 10],'min_samples_leaf': [1, 2, 4]},\n",
        "    \"Random Forest\": {\"n_estimators\": [10, 50, 100], \"max_depth\": [None, 10, 20]},\n",
        "    \"Support Vector Regressor\": {\"C\": [0.1, 1, 10], \"kernel\": [\"linear\", \"rbf\"]},\n",
        "    \"KNN\": {'n_neighbors': [3, 5, 10, 20],'weights': ['uniform', 'distance'],'p': [1, 2]}\n",
        "}"
      ]
    },
    {
      "cell_type": "markdown",
      "id": "ea43e26a",
      "metadata": {},
      "source": [
        "## 6.3- Entrainement des modèles optimisés "
      ]
    },
    {
      "cell_type": "code",
      "execution_count": 18,
      "id": "f1d5fdff",
      "metadata": {},
      "outputs": [
        {
          "name": "stdout",
          "output_type": "stream",
          "text": [
            "Optimisation pour LinearRegression...\n",
            "Fitting 5 folds for each of 8 candidates, totalling 40 fits\n",
            "Performance de LinearRegression (Optimisé):\n",
            "Mean Absolute Error: 14.8124\n",
            "Mean Squared Error: 295.2129\n",
            "R^2 Score: -0.0007\n",
            "Accuracy: 76.73%\n",
            "\n",
            "Optimisation pour Decision Tree...\n",
            "Fitting 5 folds for each of 36 candidates, totalling 180 fits\n",
            "Performance de Decision Tree (Optimisé):\n",
            "Mean Absolute Error: 14.8220\n",
            "Mean Squared Error: 296.0204\n",
            "R^2 Score: -0.0035\n",
            "Accuracy: 76.71%\n",
            "\n",
            "Optimisation pour Random Forest...\n",
            "Fitting 5 folds for each of 9 candidates, totalling 45 fits\n",
            "Performance de Random Forest (Optimisé):\n",
            "Mean Absolute Error: 14.8206\n",
            "Mean Squared Error: 296.2540\n",
            "R^2 Score: -0.0043\n",
            "Accuracy: 76.72%\n",
            "\n",
            "Optimisation pour Support Vector Regressor...\n",
            "Fitting 5 folds for each of 6 candidates, totalling 30 fits\n",
            "Performance de Support Vector Regressor (Optimisé):\n",
            "Mean Absolute Error: 14.8066\n",
            "Mean Squared Error: 295.5218\n",
            "R^2 Score: -0.0018\n",
            "Accuracy: 76.73%\n",
            "\n",
            "Optimisation pour KNN...\n",
            "Fitting 5 folds for each of 16 candidates, totalling 80 fits\n",
            "Performance de KNN (Optimisé):\n",
            "Mean Absolute Error: 15.1475\n",
            "Mean Squared Error: 313.7222\n",
            "R^2 Score: -0.0635\n",
            "Accuracy: 76.23%\n",
            "\n"
          ]
        }
      ],
      "source": [
        "#Entrainement des modèles optimisés\n",
        "results_grid= {}\n",
        "\n",
        "for name, model in models.items():\n",
        "    print(f\"Optimisation pour {name}...\")\n",
        "    grid_search = GridSearchCV(\n",
        "        estimator = model,\n",
        "        param_grid=params_grid[name],\n",
        "        cv=5,\n",
        "        verbose=1,\n",
        "        n_jobs=-1\n",
        "        )\n",
        "\n",
        "    grid_search.fit(X_train_scaled, y_train)\n",
        "\n",
        "    # Prédiction des modèles optimisés\n",
        "    y_pred_grid = grid_search.predict(X_test_scaled)\n",
        "    mae_grid = mean_absolute_error(y_test, y_pred_grid)\n",
        "    mse_grid = mean_squared_error(y_test, y_pred_grid)\n",
        "    r2_grid = r2_score(y_test, y_pred_grid)\n",
        "    mape_grid = mean_absolute_percentage_error(y_test, y_pred_grid) * 100\n",
        "    accuracy_grid = 100 - mape_grid\n",
        "\n",
        "    results_grid[name] = {\n",
        "    'MAE': mae_grid,\n",
        "    'MSE': mse_grid,\n",
        "    'R2': r2_grid,\n",
        "    'Accuracy': accuracy_grid\n",
        "    }\n",
        "    \n",
        "    # Visualisation  des modèles optimisés\n",
        "    print(f\"Performance de {name} (Optimisé):\")\n",
        "    print(f\"Mean Absolute Error: {mae_grid:.4f}\")\n",
        "    print(f\"Mean Squared Error: {mse_grid:.4f}\")\n",
        "    print(f\"R^2 Score: {r2_grid:.4f}\")\n",
        "    print(f\"Accuracy: {accuracy_grid:.2f}%\\n\")"
      ]
    },
    {
      "cell_type": "markdown",
      "id": "7a0f5870",
      "metadata": {},
      "source": [
        "## 6.4-Visualisation de la performance des modèles optimisés"
      ]
    },
    {
      "cell_type": "code",
      "execution_count": 19,
      "id": "a88a3ed7",
      "metadata": {},
      "outputs": [
        {
          "data": {
            "image/png": "[encoded data removed]",
            "text/plain": [
              "<Figure size 2000x800 with 4 Axes>"
            ]
          },
          "metadata": {},
          "output_type": "display_data"
        }
      ],
      "source": [
        "# Création des Graphiques Barplot\n",
        "fig, ax = plt.subplots(1, 4, figsize=(20, 8))\n",
        "fig.suptitle(\"Performance des modèles optimsés\", fontsize=18)\n",
        "\n",
        "# Recupération des resultats\n",
        "model_names = list(results.keys())\n",
        "mae_grid_values = [results[name]['MAE'] for name in model_names]\n",
        "mse_grid_values = [results[name]['MSE'] for name in model_names]\n",
        "r2_grid_values = [results[name]['R2'] for name in model_names]\n",
        "accuracy_grid_values = [results[name]['Accuracy'] for name in model_names]\n",
        "\n",
        "# MAE\n",
        "ax[0].bar(model_names, mae_grid_values, color=\"blue\")\n",
        "ax[0].set_title(\"Mean Absolute Error (MAE)\")\n",
        "ax[0].set_ylabel(\"Error\")\n",
        "ax[0].set_xticklabels(model_names, rotation=25, ha=\"right\")\n",
        "\n",
        "# MSE\n",
        "ax[1].bar(model_names, mse_grid_values, color=\"green\")\n",
        "ax[1].set_title(\"Mean Squared Error (MSE)\")\n",
        "ax[1].set_ylabel(\"Error\")\n",
        "ax[1].set_xticklabels(model_names, rotation=25, ha=\"right\")\n",
        "\n",
        "# R^2 Score\n",
        "ax[2].bar(model_names, r2_grid_values, color=\"yellow\")\n",
        "ax[2].set_title(\"R² Score\")\n",
        "ax[2].set_ylabel(\"Score\")\n",
        "ax[2].set_xticklabels(model_names, rotation=25, ha=\"right\")\n",
        "\n",
        "# Accuracy\n",
        "ax[3].bar(model_names, accuracy_grid_values, color=\"purple\")\n",
        "ax[3].set_title(\"Accuracy (%)\")\n",
        "ax[3].set_ylabel(\"Percentage\")\n",
        "ax[3].set_xticklabels(model_names, rotation=25, ha=\"right\")\n",
        "\n",
        "plt.tight_layout(rect=[0, 0, 1, 0.96])\n",
        "plt.show()"
      ]
    },
    {
      "cell_type": "markdown",
      "id": "800b873e",
      "metadata": {},
      "source": [
        "# 7-Conclusion"
      ]
    },
    {
      "cell_type": "code",
      "execution_count": 20,
      "id": "3f867782",
      "metadata": {},
      "outputs": [
        {
          "name": "stdout",
          "output_type": "stream",
          "text": [
            "Meilleur modèle avant optimisation: LinearRegression\n",
            "MAE: 14.8062\n",
            "MSE: 295.0935\n",
            "R2: -0.0003\n",
            "Accuracy: 76.74%\n",
            "Meilleur modèle apres optimisation: LinearRegression\n",
            "MAE: 14.8124\n",
            "MSE: 295.2129\n",
            "R2: -0.0007\n",
            "Accuracy: 76.73%\n"
          ]
        }
      ],
      "source": [
        "# Meilleur modèle sans optimisation\n",
        "best_model_name = max(results, key=lambda k: results[k]['R2'])\n",
        "best_model = results[best_model_name]\n",
        "\n",
        "print(f\"Meilleur modèle avant optimisation: {best_model_name}\")\n",
        "print(f\"MAE: {best_model['MAE']:.4f}\")\n",
        "print(f\"MSE: {best_model['MSE']:.4f}\")\n",
        "print(f\"R2: {best_model['R2']:.4f}\")\n",
        "print(f\"Accuracy: {best_model['Accuracy']:.2f}%\")\n",
        "\n",
        "# Meilleur modèle apres optimisation avec GridSearch\n",
        "best_model_name_grid = max(results_grid, key=lambda k: results_grid[k]['R2'])\n",
        "best_model_grid = results_grid[best_model_name_grid]\n",
        "\n",
        "print(f\"Meilleur modèle apres optimisation: {best_model_name_grid}\")\n",
        "print(f\"MAE: {best_model_grid['MAE']:.4f}\")\n",
        "print(f\"MSE: {best_model_grid['MSE']:.4f}\")\n",
        "print(f\"R2: {best_model_grid['R2']:.4f}\")\n",
        "print(f\"Accuracy: {best_model_grid['Accuracy']:.2f}%\")"
      ]
    }
  ],
  "metadata": {
    "colab": {
      "provenance": [],
      "toc_visible": true
    },
    "kernelspec": {
      "display_name": ".venv",
      "language": "python",
      "name": "python3"
    },
    "language_info": {
      "codemirror_mode": {
        "name": "ipython",
        "version": 3
      },
      "file_extension": ".py",
      "mimetype": "text/x-python",
      "name": "python",
      "nbconvert_exporter": "python",
      "pygments_lexer": "ipython3",
      "version": "3.11.9"
    }
  },
  "nbformat": 4,
  "nbformat_minor": 5
}
