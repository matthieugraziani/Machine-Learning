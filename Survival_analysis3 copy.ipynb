{
  "cells": [
    {
      "cell_type": "markdown",
      "id": "ba6e5291",
      "metadata": {
        "id": "ba6e5291"
      },
      "source": [
        "# 1-Librairies"
      ]
    },
    {
      "cell_type": "code",
      "execution_count": null,
      "id": "eaac408f",
      "metadata": {
        "id": "eaac408f"
      },
      "outputs": [],
      "source": [
        "# Standard\n",
        "import pandas as pd\n",
        "import numpy as np\n",
        "import seaborn as sns\n",
        "import matplotlib.pyplot as plt\n",
        "\n",
        "# Dataset\n",
        "import kagglehub\n",
        "\n",
        "# Preprocessing\n",
        "from sklearn.preprocessing import LabelEncoder\n",
        "from sklearn.preprocessing import FunctionTransformer\n",
        "from sklearn.preprocessing import StandardScaler\n",
        "\n",
        "# Division du dataset\n",
        "from sklearn.model_selection import train_test_split\n",
        "\n",
        "# Modèle de regression\n",
        "from sklearn.svm import SVR\n",
        "from sklearn.neighbors import KNeighborsRegressor\n",
        "import lightgbm as lgb\n",
        "import xgboost as xgb\n",
        "from sklearn.linear_model import Ridge, Lasso\n",
        "from sklearn.linear_model import LinearRegression\n",
        "from sklearn.svm import SVR\n",
        "from sklearn.tree import DecisionTreeRegressor\n",
        "from sklearn.ensemble import RandomForestRegressor\n",
        "from sklearn.neighbors import KNeighborsRegressor\n",
        "\n",
        "# Métriques de performance\n",
        "from sklearn.metrics import mean_absolute_error, mean_absolute_percentage_error\n",
        "from sklearn.metrics import mean_squared_error, r2_score\n",
        "\n",
        "# Optimisation du modèle testé\n",
        "from sklearn.model_selection import GridSearchCV\n",
        "\n",
        "import scipy.stats as stats\n",
        "\n",
        "# Suppression des warnings\n",
        "import warnings\n",
        "warnings.filterwarnings(\"ignore\")"
      ]
    },
    {
      "cell_type": "markdown",
      "id": "61497a83",
      "metadata": {
        "id": "61497a83"
      },
      "source": [
        "# 2-Dataset"
      ]
    },
    {
      "cell_type": "code",
      "execution_count": null,
      "id": "7331617c",
      "metadata": {
        "id": "7331617c"
      },
      "outputs": [],
      "source": [
        "# Charger les données\n",
        "path = kagglehub.dataset_download(\"miadul/brain-tumor-dataset\")\n",
        "df = pd.read_csv(f\"{path}/brain_tumor_dataset.csv\")\n"
      ]
    },
    {
      "cell_type": "markdown",
      "id": "26b89dba",
      "metadata": {
        "id": "26b89dba"
      },
      "source": [
        "# 3- Analyse Exploratoire des Données (EDA)"
      ]
    },
    {
      "cell_type": "markdown",
      "id": "6537b6ae",
      "metadata": {},
      "source": [
        "## 3.1-Information sur les données"
      ]
    },
    {
      "cell_type": "code",
      "execution_count": null,
      "id": "4d15724e",
      "metadata": {
        "colab": {
          "base_uri": "https://localhost:8080/",
          "height": 278
        },
        "id": "4d15724e",
        "outputId": "578f954f-78eb-42b5-e3ab-b017baa28ac5"
      },
      "outputs": [],
      "source": [
        "# Visualisation du dataset\n",
        "df.head()"
      ]
    },
    {
      "cell_type": "code",
      "execution_count": null,
      "id": "ea3c7860",
      "metadata": {
        "colab": {
          "base_uri": "https://localhost:8080/",
          "height": 278
        },
        "id": "ea3c7860",
        "outputId": "78da7a12-9391-4c25-ea24-ea54ee3b233a"
      },
      "outputs": [],
      "source": [
        "# Supression de colonne inutile\n",
        "df=df.drop('Patient_ID',axis=1)\n",
        "df.head()"
      ]
    },
    {
      "cell_type": "code",
      "execution_count": null,
      "id": "63923cea",
      "metadata": {
        "colab": {
          "base_uri": "https://localhost:8080/"
        },
        "id": "63923cea",
        "outputId": "69522d5a-fc21-4bae-84eb-0a0d3ac2a68f"
      },
      "outputs": [],
      "source": [
        "# Information du dataset\n",
        "df.info()"
      ]
    },
    {
      "cell_type": "code",
      "execution_count": null,
      "id": "95654c2e",
      "metadata": {
        "colab": {
          "base_uri": "https://localhost:8080/",
          "height": 648
        },
        "id": "95654c2e",
        "outputId": "56daef1d-4448-4791-e247-0082a4f22b56"
      },
      "outputs": [],
      "source": [
        "# Verification si donnéées manquantes\n",
        "df.isnull().sum()"
      ]
    },
    {
      "cell_type": "markdown",
      "id": "e89c28fb",
      "metadata": {},
      "source": [
        "## 3.2-Valeurs Catégorielles"
      ]
    },
    {
      "cell_type": "code",
      "execution_count": null,
      "id": "2307e18f",
      "metadata": {},
      "outputs": [],
      "source": [
        "categorical_cols = df.select_dtypes(include=['object']).columns.tolist()\n",
        "\n",
        "for col in categorical_cols:\n",
        "    cardinality = df[col].nunique()\n",
        "    print(f\"Column: {col}, Cardinality: {cardinality}\")"
      ]
    },
    {
      "cell_type": "markdown",
      "id": "c8e1fde4",
      "metadata": {},
      "source": [
        "## 3.3-Valeurs Numériques"
      ]
    },
    {
      "cell_type": "code",
      "execution_count": null,
      "id": "b2e71827",
      "metadata": {},
      "outputs": [],
      "source": [
        "numerical_cols = df.select_dtypes(include=['int64', 'float64']).columns.tolist()\n",
        "for col in numerical_cols:\n",
        "    print(f\"Column: {col}, Type: {df[col].dtype}\")\n",
        "\n",
        "plt.figure(figsize=(15, 10))\n",
        "for i, col in enumerate(numerical_cols):\n",
        "    plt.subplot(2, 2, i + 1)\n",
        "    sns.histplot(data=df, x=col, kde=True)\n",
        "    plt.title(f'Distribution of {col}')\n",
        "plt.tight_layout()\n",
        "plt.show()"
      ]
    },
    {
      "cell_type": "markdown",
      "id": "6f1018e2",
      "metadata": {
        "id": "6f1018e2"
      },
      "source": [
        "# 4-Preprocessing"
      ]
    },
    {
      "cell_type": "markdown",
      "id": "9a07b983",
      "metadata": {},
      "source": [
        "## 4.1-OneHotEncoder sur les données Object"
      ]
    },
    {
      "cell_type": "code",
      "execution_count": null,
      "id": "ea179da7",
      "metadata": {},
      "outputs": [],
      "source": [
        "# Appliquer One-Hot Encoding\n",
        "df_processed = pd.get_dummies(df, columns=categorical_cols, drop_first=True)\n",
        "\n",
        "# Afficher les premières lignes du DataFrame avec One-Hot Encoding\n",
        "print(\"DataFrame after One-Hot Encoding:\")\n",
        "display(df_processed.head())"
      ]
    },
    {
      "cell_type": "markdown",
      "id": "18b2dce7",
      "metadata": {},
      "source": [
        "## 4.2-Features et Target"
      ]
    },
    {
      "cell_type": "code",
      "execution_count": null,
      "id": "123100aa",
      "metadata": {},
      "outputs": [],
      "source": [
        "# Définir les Features (X) et la Target (y)\n",
        "X = df_processed.drop('Survival_Rate', axis=1)\n",
        "y = df_processed['Survival_Rate']"
      ]
    },
    {
      "cell_type": "markdown",
      "id": "e65fca5b",
      "metadata": {},
      "source": [
        "## 4.3-Split Train/Test"
      ]
    },
    {
      "cell_type": "code",
      "execution_count": null,
      "id": "965419d2",
      "metadata": {},
      "outputs": [],
      "source": [
        "# Diviser les données en sous-ensemble d'entrainement et de test (sans stratification pour la régression)\n",
        "X_train, X_test, y_train, y_test = train_test_split(X, y, test_size=0.3, random_state=42)\n",
        "\n",
        "# Afficher les dimensions des ensembles d'entraînement et de test\n",
        "print(\"Dimensions de l'ensemble d'entraînement (X_train, y_train):\", X_train.shape, y_train.shape)\n",
        "print(\"Dimensions de l'ensemble de test (X_test, y_test):\", X_test.shape, y_test.shape)"
      ]
    },
    {
      "cell_type": "markdown",
      "id": "dcdcca6b",
      "metadata": {},
      "source": [
        "## 4.4-StandardsScaler sur les données Features numériques du df_processed"
      ]
    },
    {
      "cell_type": "code",
      "execution_count": null,
      "id": "bd5ad5cf",
      "metadata": {},
      "outputs": [],
      "source": [
        "# Mise a l'echelle des features numériques\n",
        "# Identifier les colonnes numériques à scaler (exclure les colonnes booléennes créées par one-hot encoding)\n",
        "numerical_cols_to_scale = X_train.select_dtypes(include=['float64', 'int64']).columns\n",
        "\n",
        "scaler = StandardScaler()\n",
        "X_train[numerical_cols_to_scale] = scaler.fit_transform(X_train[numerical_cols_to_scale])\n",
        "X_test[numerical_cols_to_scale] = scaler.transform(X_test[numerical_cols_to_scale])\n",
        "\n",
        "# Afficher les premières lignes des données mises à l'échelle\n",
        "print(\"\\nPremières lignes de X_train après mise à l'échelle:\")\n",
        "display(X_train.head())"
      ]
    },
    {
      "cell_type": "markdown",
      "id": "9963507d",
      "metadata": {
        "id": "9963507d"
      },
      "source": [
        "# 5-Entraînement et évaluation\n"
      ]
    },
    {
      "cell_type": "markdown",
      "id": "d3173d20",
      "metadata": {},
      "source": [
        "## 5.1-Modeles"
      ]
    },
    {
      "cell_type": "code",
      "execution_count": null,
      "id": "351995a4",
      "metadata": {},
      "outputs": [],
      "source": [
        "models = {\n",
        "    'LinearRegression': LinearRegression(),\n",
        "    'Decision Tree': DecisionTreeRegressor(random_state=42),\n",
        "    'Random Forest': RandomForestRegressor(random_state=42),\n",
        "    'Support Vector Regressor' : SVR(),\n",
        "    'KNN': KNeighborsRegressor(),\n",
        "}"
      ]
    },
    {
      "cell_type": "markdown",
      "id": "6492485f",
      "metadata": {},
      "source": [
        "## 5.2-Entrainements et résultats"
      ]
    },
    {
      "cell_type": "code",
      "execution_count": null,
      "id": "a879a850",
      "metadata": {
        "colab": {
          "base_uri": "https://localhost:8080/"
        },
        "id": "a879a850",
        "outputId": "92bf6d75-79d2-4624-fdc5-c0bbe6ad0017"
      },
      "outputs": [],
      "source": [
        "# Creer un dictionnaire pour stocker les résultats\n",
        "results = {}\n",
        "\n",
        "for name, model in models.items():\n",
        "    print(f\"Training {name}...\")\n",
        "    # Train the models\n",
        "    model.fit(X_train, y_train)\n",
        "\n",
        "    # Predict on the Test data\n",
        "    y_pred = model.predict(X_test)\n",
        "\n",
        "    # Calculate performance metrics\n",
        "    mae = mean_absolute_error(y_test, y_pred)\n",
        "    mse = mean_squared_error(y_test, y_pred)\n",
        "    r2 = r2_score(y_test, y_pred)\n",
        "    mape = mean_absolute_percentage_error(y_test, y_pred) * 100\n",
        "    accuracy = 100 - mape\n",
        "\n",
        "    # Store the metrics in the results dictionary\n",
        "    results[name] = {\n",
        "        'MAE': mae,\n",
        "        'MSE': mse,\n",
        "        'R2': r2,\n",
        "        'Accuracy': accuracy\n",
        "    }\n",
        "\n",
        "    # Print performance metrics\n",
        "    print(f\"Performance de {name}:\")\n",
        "    print(f\"Mean Absolute Error: {mae:.4f}\")\n",
        "    print(f\"Mean Squared Error: {mse:.4f}\")\n",
        "    print(f\"R^2 Score: {r2:.4f}\")\n",
        "    print(f\"Accuracy: {accuracy:.2f}%\\n\")\n"
      ]
    },
    {
      "cell_type": "markdown",
      "id": "83023552",
      "metadata": {},
      "source": [
        "# 6-OPtimsation"
      ]
    },
    {
      "cell_type": "markdown",
      "id": "35ce39ab",
      "metadata": {},
      "source": [
        "## 6.1-Parametres"
      ]
    },
    {
      "cell_type": "code",
      "execution_count": null,
      "id": "32af3fad",
      "metadata": {},
      "outputs": [],
      "source": [
        "# Récupération des paramètres pour chaque modèle\n",
        "for model_name, model in models.items():\n",
        "    print(f\"Paramètres de {model_name}:\")\n",
        "    print(model.get_params())\n",
        "    print(\"-\" * 50)"
      ]
    },
    {
      "cell_type": "code",
      "execution_count": null,
      "id": "e64c9065",
      "metadata": {},
      "outputs": [],
      "source": [
        "params_grid = {\n",
        "    \"LinearRegression\": {'copy_X': [True,False], 'fit_intercept': [True,False], 'positive': [True,False]},\n",
        "    \"Decision Tree\": {'max_depth': [3, 5, 10, None],'min_samples_split': [2, 5, 10],'min_samples_leaf': [1, 2, 4]},\n",
        "    \"Random Forest\": {\"n_estimators\": [10, 50, 100], \"max_depth\": [None, 10, 20]},\n",
        "    \"Support Vector Regressor\": {\"C\": [0.1, 1, 10], \"kernel\": [\"linear\", \"rbf\"]},\n",
        "    \"KNN\": {'n_neighbors': [3, 5, 10, 20],'weights': ['uniform', 'distance'],'p': [1, 2]}\n",
        "}"
      ]
    },
    {
      "cell_type": "markdown",
      "id": "a117a8f7",
      "metadata": {},
      "source": [
        "## 6.2 Entrainements et résultats"
      ]
    },
    {
      "cell_type": "code",
      "execution_count": 17,
      "id": "134a9b6c",
      "metadata": {},
      "outputs": [
        {
          "ename": "KeyboardInterrupt",
          "evalue": "",
          "output_type": "error",
          "traceback": [
            "\u001b[31m---------------------------------------------------------------------------\u001b[39m",
            "\u001b[31mKeyboardInterrupt\u001b[39m                         Traceback (most recent call last)",
            "\u001b[36mCell\u001b[39m\u001b[36m \u001b[39m\u001b[32mIn[17]\u001b[39m\u001b[32m, line 13\u001b[39m\n\u001b[32m      3\u001b[39m \u001b[38;5;28;01mfor\u001b[39;00m name, model \u001b[38;5;129;01min\u001b[39;00m models.items():\n\u001b[32m      4\u001b[39m     \u001b[38;5;66;03m# Entrainement des modeles avec GridSearchCV\u001b[39;00m\n\u001b[32m      5\u001b[39m     grid_search = GridSearchCV(\n\u001b[32m      6\u001b[39m         estimator=models[name],\n\u001b[32m      7\u001b[39m         param_grid=params_grid[name],\n\u001b[32m   (...)\u001b[39m\u001b[32m     10\u001b[39m         n_jobs=-\u001b[32m1\u001b[39m\n\u001b[32m     11\u001b[39m     )\n\u001b[32m---> \u001b[39m\u001b[32m13\u001b[39m     \u001b[43mgrid_search\u001b[49m\u001b[43m.\u001b[49m\u001b[43mfit\u001b[49m\u001b[43m(\u001b[49m\u001b[43mX_train\u001b[49m\u001b[43m,\u001b[49m\u001b[43m \u001b[49m\u001b[43my_train\u001b[49m\u001b[43m)\u001b[49m\n\u001b[32m     15\u001b[39m     y_pred_grid = grid_search.predict(X_test)\n\u001b[32m     16\u001b[39m     mae = mean_absolute_error(y_test, y_pred)\n",
            "\u001b[36mFile \u001b[39m\u001b[32mc:\\Users\\mgraz\\Documents\\.vscode\\Alyra\\Projet Alyra\\Block 3 - Machine Learning\\.venv\\Lib\\site-packages\\sklearn\\base.py:1389\u001b[39m, in \u001b[36m_fit_context.<locals>.decorator.<locals>.wrapper\u001b[39m\u001b[34m(estimator, *args, **kwargs)\u001b[39m\n\u001b[32m   1382\u001b[39m     estimator._validate_params()\n\u001b[32m   1384\u001b[39m \u001b[38;5;28;01mwith\u001b[39;00m config_context(\n\u001b[32m   1385\u001b[39m     skip_parameter_validation=(\n\u001b[32m   1386\u001b[39m         prefer_skip_nested_validation \u001b[38;5;129;01mor\u001b[39;00m global_skip_validation\n\u001b[32m   1387\u001b[39m     )\n\u001b[32m   1388\u001b[39m ):\n\u001b[32m-> \u001b[39m\u001b[32m1389\u001b[39m     \u001b[38;5;28;01mreturn\u001b[39;00m \u001b[43mfit_method\u001b[49m\u001b[43m(\u001b[49m\u001b[43mestimator\u001b[49m\u001b[43m,\u001b[49m\u001b[43m \u001b[49m\u001b[43m*\u001b[49m\u001b[43margs\u001b[49m\u001b[43m,\u001b[49m\u001b[43m \u001b[49m\u001b[43m*\u001b[49m\u001b[43m*\u001b[49m\u001b[43mkwargs\u001b[49m\u001b[43m)\u001b[49m\n",
            "\u001b[36mFile \u001b[39m\u001b[32mc:\\Users\\mgraz\\Documents\\.vscode\\Alyra\\Projet Alyra\\Block 3 - Machine Learning\\.venv\\Lib\\site-packages\\sklearn\\model_selection\\_search.py:1024\u001b[39m, in \u001b[36mBaseSearchCV.fit\u001b[39m\u001b[34m(self, X, y, **params)\u001b[39m\n\u001b[32m   1018\u001b[39m     results = \u001b[38;5;28mself\u001b[39m._format_results(\n\u001b[32m   1019\u001b[39m         all_candidate_params, n_splits, all_out, all_more_results\n\u001b[32m   1020\u001b[39m     )\n\u001b[32m   1022\u001b[39m     \u001b[38;5;28;01mreturn\u001b[39;00m results\n\u001b[32m-> \u001b[39m\u001b[32m1024\u001b[39m \u001b[38;5;28;43mself\u001b[39;49m\u001b[43m.\u001b[49m\u001b[43m_run_search\u001b[49m\u001b[43m(\u001b[49m\u001b[43mevaluate_candidates\u001b[49m\u001b[43m)\u001b[49m\n\u001b[32m   1026\u001b[39m \u001b[38;5;66;03m# multimetric is determined here because in the case of a callable\u001b[39;00m\n\u001b[32m   1027\u001b[39m \u001b[38;5;66;03m# self.scoring the return type is only known after calling\u001b[39;00m\n\u001b[32m   1028\u001b[39m first_test_score = all_out[\u001b[32m0\u001b[39m][\u001b[33m\"\u001b[39m\u001b[33mtest_scores\u001b[39m\u001b[33m\"\u001b[39m]\n",
            "\u001b[36mFile \u001b[39m\u001b[32mc:\\Users\\mgraz\\Documents\\.vscode\\Alyra\\Projet Alyra\\Block 3 - Machine Learning\\.venv\\Lib\\site-packages\\sklearn\\model_selection\\_search.py:1571\u001b[39m, in \u001b[36mGridSearchCV._run_search\u001b[39m\u001b[34m(self, evaluate_candidates)\u001b[39m\n\u001b[32m   1569\u001b[39m \u001b[38;5;28;01mdef\u001b[39;00m\u001b[38;5;250m \u001b[39m\u001b[34m_run_search\u001b[39m(\u001b[38;5;28mself\u001b[39m, evaluate_candidates):\n\u001b[32m   1570\u001b[39m \u001b[38;5;250m    \u001b[39m\u001b[33;03m\"\"\"Search all candidates in param_grid\"\"\"\u001b[39;00m\n\u001b[32m-> \u001b[39m\u001b[32m1571\u001b[39m     \u001b[43mevaluate_candidates\u001b[49m\u001b[43m(\u001b[49m\u001b[43mParameterGrid\u001b[49m\u001b[43m(\u001b[49m\u001b[38;5;28;43mself\u001b[39;49m\u001b[43m.\u001b[49m\u001b[43mparam_grid\u001b[49m\u001b[43m)\u001b[49m\u001b[43m)\u001b[49m\n",
            "\u001b[36mFile \u001b[39m\u001b[32mc:\\Users\\mgraz\\Documents\\.vscode\\Alyra\\Projet Alyra\\Block 3 - Machine Learning\\.venv\\Lib\\site-packages\\sklearn\\model_selection\\_search.py:970\u001b[39m, in \u001b[36mBaseSearchCV.fit.<locals>.evaluate_candidates\u001b[39m\u001b[34m(candidate_params, cv, more_results)\u001b[39m\n\u001b[32m    962\u001b[39m \u001b[38;5;28;01mif\u001b[39;00m \u001b[38;5;28mself\u001b[39m.verbose > \u001b[32m0\u001b[39m:\n\u001b[32m    963\u001b[39m     \u001b[38;5;28mprint\u001b[39m(\n\u001b[32m    964\u001b[39m         \u001b[33m\"\u001b[39m\u001b[33mFitting \u001b[39m\u001b[38;5;132;01m{0}\u001b[39;00m\u001b[33m folds for each of \u001b[39m\u001b[38;5;132;01m{1}\u001b[39;00m\u001b[33m candidates,\u001b[39m\u001b[33m\"\u001b[39m\n\u001b[32m    965\u001b[39m         \u001b[33m\"\u001b[39m\u001b[33m totalling \u001b[39m\u001b[38;5;132;01m{2}\u001b[39;00m\u001b[33m fits\u001b[39m\u001b[33m\"\u001b[39m.format(\n\u001b[32m    966\u001b[39m             n_splits, n_candidates, n_candidates * n_splits\n\u001b[32m    967\u001b[39m         )\n\u001b[32m    968\u001b[39m     )\n\u001b[32m--> \u001b[39m\u001b[32m970\u001b[39m out = \u001b[43mparallel\u001b[49m\u001b[43m(\u001b[49m\n\u001b[32m    971\u001b[39m \u001b[43m    \u001b[49m\u001b[43mdelayed\u001b[49m\u001b[43m(\u001b[49m\u001b[43m_fit_and_score\u001b[49m\u001b[43m)\u001b[49m\u001b[43m(\u001b[49m\n\u001b[32m    972\u001b[39m \u001b[43m        \u001b[49m\u001b[43mclone\u001b[49m\u001b[43m(\u001b[49m\u001b[43mbase_estimator\u001b[49m\u001b[43m)\u001b[49m\u001b[43m,\u001b[49m\n\u001b[32m    973\u001b[39m \u001b[43m        \u001b[49m\u001b[43mX\u001b[49m\u001b[43m,\u001b[49m\n\u001b[32m    974\u001b[39m \u001b[43m        \u001b[49m\u001b[43my\u001b[49m\u001b[43m,\u001b[49m\n\u001b[32m    975\u001b[39m \u001b[43m        \u001b[49m\u001b[43mtrain\u001b[49m\u001b[43m=\u001b[49m\u001b[43mtrain\u001b[49m\u001b[43m,\u001b[49m\n\u001b[32m    976\u001b[39m \u001b[43m        \u001b[49m\u001b[43mtest\u001b[49m\u001b[43m=\u001b[49m\u001b[43mtest\u001b[49m\u001b[43m,\u001b[49m\n\u001b[32m    977\u001b[39m \u001b[43m        \u001b[49m\u001b[43mparameters\u001b[49m\u001b[43m=\u001b[49m\u001b[43mparameters\u001b[49m\u001b[43m,\u001b[49m\n\u001b[32m    978\u001b[39m \u001b[43m        \u001b[49m\u001b[43msplit_progress\u001b[49m\u001b[43m=\u001b[49m\u001b[43m(\u001b[49m\u001b[43msplit_idx\u001b[49m\u001b[43m,\u001b[49m\u001b[43m \u001b[49m\u001b[43mn_splits\u001b[49m\u001b[43m)\u001b[49m\u001b[43m,\u001b[49m\n\u001b[32m    979\u001b[39m \u001b[43m        \u001b[49m\u001b[43mcandidate_progress\u001b[49m\u001b[43m=\u001b[49m\u001b[43m(\u001b[49m\u001b[43mcand_idx\u001b[49m\u001b[43m,\u001b[49m\u001b[43m \u001b[49m\u001b[43mn_candidates\u001b[49m\u001b[43m)\u001b[49m\u001b[43m,\u001b[49m\n\u001b[32m    980\u001b[39m \u001b[43m        \u001b[49m\u001b[43m*\u001b[49m\u001b[43m*\u001b[49m\u001b[43mfit_and_score_kwargs\u001b[49m\u001b[43m,\u001b[49m\n\u001b[32m    981\u001b[39m \u001b[43m    \u001b[49m\u001b[43m)\u001b[49m\n\u001b[32m    982\u001b[39m \u001b[43m    \u001b[49m\u001b[38;5;28;43;01mfor\u001b[39;49;00m\u001b[43m \u001b[49m\u001b[43m(\u001b[49m\u001b[43mcand_idx\u001b[49m\u001b[43m,\u001b[49m\u001b[43m \u001b[49m\u001b[43mparameters\u001b[49m\u001b[43m)\u001b[49m\u001b[43m,\u001b[49m\u001b[43m \u001b[49m\u001b[43m(\u001b[49m\u001b[43msplit_idx\u001b[49m\u001b[43m,\u001b[49m\u001b[43m \u001b[49m\u001b[43m(\u001b[49m\u001b[43mtrain\u001b[49m\u001b[43m,\u001b[49m\u001b[43m \u001b[49m\u001b[43mtest\u001b[49m\u001b[43m)\u001b[49m\u001b[43m)\u001b[49m\u001b[43m \u001b[49m\u001b[38;5;129;43;01min\u001b[39;49;00m\u001b[43m \u001b[49m\u001b[43mproduct\u001b[49m\u001b[43m(\u001b[49m\n\u001b[32m    983\u001b[39m \u001b[43m        \u001b[49m\u001b[38;5;28;43menumerate\u001b[39;49m\u001b[43m(\u001b[49m\u001b[43mcandidate_params\u001b[49m\u001b[43m)\u001b[49m\u001b[43m,\u001b[49m\n\u001b[32m    984\u001b[39m \u001b[43m        \u001b[49m\u001b[38;5;28;43menumerate\u001b[39;49m\u001b[43m(\u001b[49m\u001b[43mcv\u001b[49m\u001b[43m.\u001b[49m\u001b[43msplit\u001b[49m\u001b[43m(\u001b[49m\u001b[43mX\u001b[49m\u001b[43m,\u001b[49m\u001b[43m \u001b[49m\u001b[43my\u001b[49m\u001b[43m,\u001b[49m\u001b[43m \u001b[49m\u001b[43m*\u001b[49m\u001b[43m*\u001b[49m\u001b[43mrouted_params\u001b[49m\u001b[43m.\u001b[49m\u001b[43msplitter\u001b[49m\u001b[43m.\u001b[49m\u001b[43msplit\u001b[49m\u001b[43m)\u001b[49m\u001b[43m)\u001b[49m\u001b[43m,\u001b[49m\n\u001b[32m    985\u001b[39m \u001b[43m    \u001b[49m\u001b[43m)\u001b[49m\n\u001b[32m    986\u001b[39m \u001b[43m\u001b[49m\u001b[43m)\u001b[49m\n\u001b[32m    988\u001b[39m \u001b[38;5;28;01mif\u001b[39;00m \u001b[38;5;28mlen\u001b[39m(out) < \u001b[32m1\u001b[39m:\n\u001b[32m    989\u001b[39m     \u001b[38;5;28;01mraise\u001b[39;00m \u001b[38;5;167;01mValueError\u001b[39;00m(\n\u001b[32m    990\u001b[39m         \u001b[33m\"\u001b[39m\u001b[33mNo fits were performed. \u001b[39m\u001b[33m\"\u001b[39m\n\u001b[32m    991\u001b[39m         \u001b[33m\"\u001b[39m\u001b[33mWas the CV iterator empty? \u001b[39m\u001b[33m\"\u001b[39m\n\u001b[32m    992\u001b[39m         \u001b[33m\"\u001b[39m\u001b[33mWere there no candidates?\u001b[39m\u001b[33m\"\u001b[39m\n\u001b[32m    993\u001b[39m     )\n",
            "\u001b[36mFile \u001b[39m\u001b[32mc:\\Users\\mgraz\\Documents\\.vscode\\Alyra\\Projet Alyra\\Block 3 - Machine Learning\\.venv\\Lib\\site-packages\\sklearn\\utils\\parallel.py:77\u001b[39m, in \u001b[36mParallel.__call__\u001b[39m\u001b[34m(self, iterable)\u001b[39m\n\u001b[32m     72\u001b[39m config = get_config()\n\u001b[32m     73\u001b[39m iterable_with_config = (\n\u001b[32m     74\u001b[39m     (_with_config(delayed_func, config), args, kwargs)\n\u001b[32m     75\u001b[39m     \u001b[38;5;28;01mfor\u001b[39;00m delayed_func, args, kwargs \u001b[38;5;129;01min\u001b[39;00m iterable\n\u001b[32m     76\u001b[39m )\n\u001b[32m---> \u001b[39m\u001b[32m77\u001b[39m \u001b[38;5;28;01mreturn\u001b[39;00m \u001b[38;5;28;43msuper\u001b[39;49m\u001b[43m(\u001b[49m\u001b[43m)\u001b[49m\u001b[43m.\u001b[49m\u001b[34;43m__call__\u001b[39;49m\u001b[43m(\u001b[49m\u001b[43miterable_with_config\u001b[49m\u001b[43m)\u001b[49m\n",
            "\u001b[36mFile \u001b[39m\u001b[32mc:\\Users\\mgraz\\Documents\\.vscode\\Alyra\\Projet Alyra\\Block 3 - Machine Learning\\.venv\\Lib\\site-packages\\joblib\\parallel.py:2072\u001b[39m, in \u001b[36mParallel.__call__\u001b[39m\u001b[34m(self, iterable)\u001b[39m\n\u001b[32m   2066\u001b[39m \u001b[38;5;66;03m# The first item from the output is blank, but it makes the interpreter\u001b[39;00m\n\u001b[32m   2067\u001b[39m \u001b[38;5;66;03m# progress until it enters the Try/Except block of the generator and\u001b[39;00m\n\u001b[32m   2068\u001b[39m \u001b[38;5;66;03m# reaches the first `yield` statement. This starts the asynchronous\u001b[39;00m\n\u001b[32m   2069\u001b[39m \u001b[38;5;66;03m# dispatch of the tasks to the workers.\u001b[39;00m\n\u001b[32m   2070\u001b[39m \u001b[38;5;28mnext\u001b[39m(output)\n\u001b[32m-> \u001b[39m\u001b[32m2072\u001b[39m \u001b[38;5;28;01mreturn\u001b[39;00m output \u001b[38;5;28;01mif\u001b[39;00m \u001b[38;5;28mself\u001b[39m.return_generator \u001b[38;5;28;01melse\u001b[39;00m \u001b[38;5;28mlist\u001b[39m(output)\n",
            "\u001b[36mFile \u001b[39m\u001b[32mc:\\Users\\mgraz\\Documents\\.vscode\\Alyra\\Projet Alyra\\Block 3 - Machine Learning\\.venv\\Lib\\site-packages\\joblib\\parallel.py:1682\u001b[39m, in \u001b[36mParallel._get_outputs\u001b[39m\u001b[34m(self, iterator, pre_dispatch)\u001b[39m\n\u001b[32m   1679\u001b[39m     \u001b[38;5;28;01myield\u001b[39;00m\n\u001b[32m   1681\u001b[39m     \u001b[38;5;28;01mwith\u001b[39;00m \u001b[38;5;28mself\u001b[39m._backend.retrieval_context():\n\u001b[32m-> \u001b[39m\u001b[32m1682\u001b[39m         \u001b[38;5;28;01myield from\u001b[39;00m \u001b[38;5;28mself\u001b[39m._retrieve()\n\u001b[32m   1684\u001b[39m \u001b[38;5;28;01mexcept\u001b[39;00m \u001b[38;5;167;01mGeneratorExit\u001b[39;00m:\n\u001b[32m   1685\u001b[39m     \u001b[38;5;66;03m# The generator has been garbage collected before being fully\u001b[39;00m\n\u001b[32m   1686\u001b[39m     \u001b[38;5;66;03m# consumed. This aborts the remaining tasks if possible and warn\u001b[39;00m\n\u001b[32m   1687\u001b[39m     \u001b[38;5;66;03m# the user if necessary.\u001b[39;00m\n\u001b[32m   1688\u001b[39m     \u001b[38;5;28mself\u001b[39m._exception = \u001b[38;5;28;01mTrue\u001b[39;00m\n",
            "\u001b[36mFile \u001b[39m\u001b[32mc:\\Users\\mgraz\\Documents\\.vscode\\Alyra\\Projet Alyra\\Block 3 - Machine Learning\\.venv\\Lib\\site-packages\\joblib\\parallel.py:1800\u001b[39m, in \u001b[36mParallel._retrieve\u001b[39m\u001b[34m(self)\u001b[39m\n\u001b[32m   1789\u001b[39m \u001b[38;5;28;01mif\u001b[39;00m \u001b[38;5;28mself\u001b[39m.return_ordered:\n\u001b[32m   1790\u001b[39m     \u001b[38;5;66;03m# Case ordered: wait for completion (or error) of the next job\u001b[39;00m\n\u001b[32m   1791\u001b[39m     \u001b[38;5;66;03m# that have been dispatched and not retrieved yet. If no job\u001b[39;00m\n\u001b[32m   (...)\u001b[39m\u001b[32m   1795\u001b[39m     \u001b[38;5;66;03m# control only have to be done on the amount of time the next\u001b[39;00m\n\u001b[32m   1796\u001b[39m     \u001b[38;5;66;03m# dispatched job is pending.\u001b[39;00m\n\u001b[32m   1797\u001b[39m     \u001b[38;5;28;01mif\u001b[39;00m (nb_jobs == \u001b[32m0\u001b[39m) \u001b[38;5;129;01mor\u001b[39;00m (\n\u001b[32m   1798\u001b[39m         \u001b[38;5;28mself\u001b[39m._jobs[\u001b[32m0\u001b[39m].get_status(timeout=\u001b[38;5;28mself\u001b[39m.timeout) == TASK_PENDING\n\u001b[32m   1799\u001b[39m     ):\n\u001b[32m-> \u001b[39m\u001b[32m1800\u001b[39m         time.sleep(\u001b[32m0.01\u001b[39m)\n\u001b[32m   1801\u001b[39m         \u001b[38;5;28;01mcontinue\u001b[39;00m\n\u001b[32m   1803\u001b[39m \u001b[38;5;28;01melif\u001b[39;00m nb_jobs == \u001b[32m0\u001b[39m:\n\u001b[32m   1804\u001b[39m     \u001b[38;5;66;03m# Case unordered: jobs are added to the list of jobs to\u001b[39;00m\n\u001b[32m   1805\u001b[39m     \u001b[38;5;66;03m# retrieve `self._jobs` only once completed or in error, which\u001b[39;00m\n\u001b[32m   (...)\u001b[39m\u001b[32m   1811\u001b[39m     \u001b[38;5;66;03m# timeouts before any other dispatched job has completed and\u001b[39;00m\n\u001b[32m   1812\u001b[39m     \u001b[38;5;66;03m# been added to `self._jobs` to be retrieved.\u001b[39;00m\n",
            "\u001b[31mKeyboardInterrupt\u001b[39m: "
          ]
        }
      ],
      "source": [
        "results_grid = {}\n",
        "\n",
        "for name, model in models.items():\n",
        "    # Entrainement des modeles avec GridSearchCV\n",
        "    grid_search = GridSearchCV(\n",
        "        estimator=models[name],\n",
        "        param_grid=params_grid[name],\n",
        "        cv=5,\n",
        "        verbose=1,\n",
        "        n_jobs=-1\n",
        "    )\n",
        "\n",
        "    grid_search.fit(X_train, y_train)\n",
        "\n",
        "    y_pred_grid = grid_search.predict(X_test)\n",
        "    mae = mean_absolute_error(y_test, y_pred)\n",
        "    mse = mean_squared_error(y_test, y_pred)\n",
        "    r2 = r2_score(y_test, y_pred)\n",
        "    mape = mean_absolute_percentage_error(y_test, y_pred)\n",
        "    accuracy = 100 - (mape*100)\n",
        "\n",
        "    results_grid[name] = {\n",
        "        'MAE': mae,\n",
        "        'MSE': mse,\n",
        "        'R2': r2,\n",
        "        'Accuracy': accuracy\n",
        "    }\n",
        "    \n",
        "    # Affichage des performances\n",
        "    print(f\"Performance de {name}:\")\n",
        "    print(f\"Mean Absolute Error: {mae:.4f}\")\n",
        "    print(f\"Mean Squared Error: {mse:.4f}\")\n",
        "    print(f\"R^2 Score: {r2:.4f}\")\n",
        "    print(f\"Accuracy: {accuracy:.2f}%\\n\")"
      ]
    }
  ],
  "metadata": {
    "colab": {
      "provenance": []
    },
    "kernelspec": {
      "display_name": ".venv",
      "language": "python",
      "name": "python3"
    },
    "language_info": {
      "codemirror_mode": {
        "name": "ipython",
        "version": 3
      },
      "file_extension": ".py",
      "mimetype": "text/x-python",
      "name": "python",
      "nbconvert_exporter": "python",
      "pygments_lexer": "ipython3",
      "version": "3.11.9"
    }
  },
  "nbformat": 4,
  "nbformat_minor": 5
}
